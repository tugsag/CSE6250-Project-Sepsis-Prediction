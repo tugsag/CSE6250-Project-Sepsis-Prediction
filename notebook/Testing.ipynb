{
 "cells": [
  {
   "cell_type": "markdown",
   "metadata": {},
   "source": [
    "# Load saved models"
   ]
  },
  {
   "cell_type": "code",
   "execution_count": 17,
   "metadata": {},
   "outputs": [],
   "source": [
    "from joblib import dump, load\n",
    "svm = load('../model/svm.joblib')\n",
    "rf = load('../model/rf.joblib')\n",
    "abt = load('../model/abt.joblib')\n",
    "glm = load('../model/glm.joblib')"
   ]
  },
  {
   "cell_type": "markdown",
   "metadata": {},
   "source": [
    "# Load Testing Set"
   ]
  },
  {
   "cell_type": "code",
   "execution_count": 2,
   "metadata": {},
   "outputs": [],
   "source": [
    "import pandas as pd\n",
    "test = pd.read_csv(\"../data/TEST.csv\")\n",
    "y_test = test[\"SEPSIS\"]\n",
    "X_test = test.drop(\"SEPSIS\", axis=1)"
   ]
  },
  {
   "cell_type": "markdown",
   "metadata": {},
   "source": [
    "# Helper Function"
   ]
  },
  {
   "cell_type": "code",
   "execution_count": 3,
   "metadata": {},
   "outputs": [],
   "source": [
    "from sklearn.metrics import *\n",
    "def classification_metrics(Y_pred, Y_true, Y_score):\n",
    "    #NOTE: It is important to provide the output in the same order\n",
    "    acc = accuracy_score(Y_true,Y_pred)\n",
    "    bacc = balanced_accuracy_score(Y_true, Y_pred)\n",
    "    auc_ = roc_auc_score(Y_true,Y_score)\n",
    "    precision = precision_score(Y_true,Y_pred)\n",
    "    recall = recall_score(Y_true,Y_pred)\n",
    "    f1score = f1_score(Y_true,Y_pred)\n",
    "    return acc, bacc, auc_, precision, recall, f1score"
   ]
  },
  {
   "cell_type": "code",
   "execution_count": 4,
   "metadata": {},
   "outputs": [],
   "source": [
    "import matplotlib.pyplot as plt\n",
    "import numpy as np\n",
    "\n",
    "def plot_confusion_matrix(y_true, y_pred, class_names):\n",
    "    cm = confusion_matrix(y_true, y_pred)\n",
    "    cm = cm.astype('float') / cm.sum(axis=1)[:, np.newaxis] # Normalize\n",
    "    cmap = plt.cm.Blues\n",
    "\n",
    "    # https://scikit-learn.org/stable/auto_examples/model_selection/plot_confusion_matrix.html\n",
    "    fig, ax = plt.subplots()\n",
    "    im = ax.imshow(cm, interpolation='nearest', cmap=cmap)\n",
    "    ax.figure.colorbar(im, ax=ax)\n",
    "    ax.set(xticks=np.arange(cm.shape[1]), yticks=np.arange(cm.shape[0]),\n",
    "           xticklabels=class_names, yticklabels=class_names,\n",
    "           title=\"Normalized Confusion Matrix\",\n",
    "           ylabel='True', xlabel='Predicted')\n",
    "\n",
    "    # Rotate the tick labels and set alignment\n",
    "    plt.setp(ax.get_xticklabels(), rotation=45, ha=\"right\",\n",
    "             rotation_mode=\"anchor\")\n",
    "\n",
    "    fmt = '.2f'\n",
    "    thresh = cm.max() / 2.\n",
    "    # Loop over data dimensions and create text annotations\n",
    "    for i in range(cm.shape[0]):\n",
    "        for j in range(cm.shape[1]):\n",
    "            ax.text(j, i, format(cm[i, j], fmt),\n",
    "                    ha=\"center\", va=\"center\",\n",
    "                    color=\"white\" if cm[i, j] > thresh else \"black\")\n",
    "    fig.tight_layout()\n",
    "\n",
    "    plt.show()"
   ]
  },
  {
   "cell_type": "markdown",
   "metadata": {},
   "source": [
    "# Random Forest"
   ]
  },
  {
   "cell_type": "code",
   "execution_count": 21,
   "metadata": {},
   "outputs": [],
   "source": [
    "y_pred_rf = rf.predict(X_test)\n",
    "y_score_rf = rf.predict_proba(X_test)[:,1]"
   ]
  },
  {
   "cell_type": "code",
   "execution_count": 22,
   "metadata": {},
   "outputs": [
    {
     "name": "stdout",
     "output_type": "stream",
     "text": [
      "Accuracy: 0.8164948453608247\n",
      "Balanced Accuracy: 0.7895761600262339\n",
      "AUC: 0.8537875061485489\n",
      "Precision: 0.3644067796610169\n",
      "Recall: 0.7543859649122807\n",
      "F1 Score: 0.49142857142857144\n"
     ]
    }
   ],
   "source": [
    "accrf, baccrf, aucrf, prerf, recrf, f1rf = classification_metrics(y_pred_rf, y_test, y_score_rf)\n",
    "print(\"Accuracy: \" + str(accrf))\n",
    "print(\"Balanced Accuracy: \" + str(baccrf))\n",
    "print(\"AUC: \" + str(aucrf))\n",
    "print(\"Precision: \" + str(prerf))\n",
    "print(\"Recall: \" + str(recrf))\n",
    "print(\"F1 Score: \" + str(f1rf))"
   ]
  },
  {
   "cell_type": "code",
   "execution_count": 23,
   "metadata": {},
   "outputs": [
    {
     "data": {
      "image/png": "[encoded data removed]",
      "text/plain": [
       "<Figure size 432x288 with 2 Axes>"
      ]
     },
     "metadata": {
      "needs_background": "light"
     },
     "output_type": "display_data"
    }
   ],
   "source": [
    "plot_confusion_matrix(y_test, y_pred_rf, [\"Non\",\"Sep\"])"
   ]
  },
  {
   "cell_type": "markdown",
   "metadata": {},
   "source": [
    "# SVM"
   ]
  },
  {
   "cell_type": "code",
   "execution_count": 8,
   "metadata": {},
   "outputs": [],
   "source": [
    "y_pred_svm = svm.predict(X_test)\n",
    "y_score_svm = svm.predict_proba(X_test)[:,1]"
   ]
  },
  {
   "cell_type": "code",
   "execution_count": 9,
   "metadata": {},
   "outputs": [
    {
     "name": "stdout",
     "output_type": "stream",
     "text": [
      "Accuracy: 0.7628865979381443\n",
      "Balanced Accuracy: 0.7592023282505329\n",
      "AUC: 0.8192736514182652\n",
      "Precision: 0.2986111111111111\n",
      "Recall: 0.7543859649122807\n",
      "F1 Score: 0.42786069651741293\n"
     ]
    }
   ],
   "source": [
    "accsvm, baccsvm, aucsvm, presvm, recsvm, f1svm = classification_metrics(y_pred_svm, y_test, y_score_svm)\n",
    "print(\"Accuracy: \" + str(accsvm))\n",
    "print(\"Balanced Accuracy: \" + str(baccsvm))\n",
    "print(\"AUC: \" + str(aucsvm))\n",
    "print(\"Precision: \" + str(presvm))\n",
    "print(\"Recall: \" + str(recsvm))\n",
    "print(\"F1 Score: \" + str(f1svm))"
   ]
  },
  {
   "cell_type": "code",
   "execution_count": 10,
   "metadata": {},
   "outputs": [
    {
     "data": {
      "image/png": "[encoded data removed]",
      "text/plain": [
       "<Figure size 432x288 with 2 Axes>"
      ]
     },
     "metadata": {
      "needs_background": "light"
     },
     "output_type": "display_data"
    }
   ],
   "source": [
    "plot_confusion_matrix(y_test, y_pred_svm, [\"Non\",\"Sep\"])"
   ]
  },
  {
   "cell_type": "markdown",
   "metadata": {},
   "source": [
    "# AdaBoost"
   ]
  },
  {
   "cell_type": "code",
   "execution_count": 11,
   "metadata": {},
   "outputs": [],
   "source": [
    "y_pred_abt = abt.predict(X_test)\n",
    "y_score_abt = abt.predict_proba(X_test)[:,1]"
   ]
  },
  {
   "cell_type": "code",
   "execution_count": 12,
   "metadata": {},
   "outputs": [
    {
     "name": "stdout",
     "output_type": "stream",
     "text": [
      "Accuracy: 0.8123711340206186\n",
      "Balanced Accuracy: 0.772032300377111\n",
      "AUC: 0.8403426791277259\n",
      "Precision: 0.35344827586206895\n",
      "Recall: 0.7192982456140351\n",
      "F1 Score: 0.47398843930635837\n"
     ]
    }
   ],
   "source": [
    "accabt, baccabt, aucabt, preabt, recabt, f1abt = classification_metrics(y_pred_abt, y_test, y_score_abt)\n",
    "print(\"Accuracy: \" + str(accabt))\n",
    "print(\"Balanced Accuracy: \" + str(baccabt))\n",
    "print(\"AUC: \" + str(aucabt))\n",
    "print(\"Precision: \" + str(preabt))\n",
    "print(\"Recall: \" + str(recabt))\n",
    "print(\"F1 Score: \" + str(f1abt))"
   ]
  },
  {
   "cell_type": "code",
   "execution_count": 13,
   "metadata": {},
   "outputs": [
    {
     "data": {
      "image/png": "[encoded data removed]",
      "text/plain": [
       "<Figure size 432x288 with 2 Axes>"
      ]
     },
     "metadata": {
      "needs_background": "light"
     },
     "output_type": "display_data"
    }
   ],
   "source": [
    "plot_confusion_matrix(y_test, y_pred_abt, [\"Non\",\"Sep\"])"
   ]
  },
  {
   "cell_type": "markdown",
   "metadata": {},
   "source": [
    "# Logistic"
   ]
  },
  {
   "cell_type": "code",
   "execution_count": 18,
   "metadata": {},
   "outputs": [],
   "source": [
    "y_pred_gbt = glm.predict(X_test)\n",
    "y_score_gbt = glm.predict_proba(X_test)[:,1]"
   ]
  },
  {
   "cell_type": "code",
   "execution_count": 19,
   "metadata": {},
   "outputs": [
    {
     "name": "stdout",
     "output_type": "stream",
     "text": [
      "Accuracy: 0.7690721649484537\n",
      "Balanced Accuracy: 0.7551032956222331\n",
      "AUC: 0.8173061157566814\n",
      "Precision: 0.302158273381295\n",
      "Recall: 0.7368421052631579\n",
      "F1 Score: 0.4285714285714286\n"
     ]
    }
   ],
   "source": [
    "accgbt, baccgbt, aucgbt, pregbt, recgbt, f1gbt = classification_metrics(y_pred_gbt, y_test, y_score_gbt)\n",
    "print(\"Accuracy: \" + str(accgbt))\n",
    "print(\"Balanced Accuracy: \" + str(baccgbt))\n",
    "print(\"AUC: \" + str(aucgbt))\n",
    "print(\"Precision: \" + str(pregbt))\n",
    "print(\"Recall: \" + str(recgbt))\n",
    "print(\"F1 Score: \" + str(f1gbt))"
   ]
  },
  {
   "cell_type": "code",
   "execution_count": 20,
   "metadata": {},
   "outputs": [
    {
     "data": {
      "image/png": "[encoded data removed]",
      "text/plain": [
       "<Figure size 432x288 with 2 Axes>"
      ]
     },
     "metadata": {
      "needs_background": "light"
     },
     "output_type": "display_data"
    }
   ],
   "source": [
    "plot_confusion_matrix(y_test, y_pred_gbt, [\"Non\",\"Sep\"])"
   ]
  },
  {
   "cell_type": "code",
   "execution_count": null,
   "metadata": {},
   "outputs": [],
   "source": []
  }
 ],
 "metadata": {
  "kernelspec": {
   "display_name": "Python [conda env:sepsis]",
   "language": "python",
   "name": "conda-env-sepsis-py"
  },
  "language_info": {
   "codemirror_mode": {
    "name": "ipython",
    "version": 3
   },
   "file_extension": ".py",
   "mimetype": "text/x-python",
   "name": "python",
   "nbconvert_exporter": "python",
   "pygments_lexer": "ipython3",
   "version": "3.6.8"
  }
 },
 "nbformat": 4,
 "nbformat_minor": 2
}
